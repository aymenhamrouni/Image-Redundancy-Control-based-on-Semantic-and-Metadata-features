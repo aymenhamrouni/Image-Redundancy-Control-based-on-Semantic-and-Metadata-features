{
 "cells": [
  {
   "cell_type": "markdown",
   "metadata": {},
   "source": [
    "<h3>Part 1 -- Autoencoder </h3>\n",
    "<h5>Each cifar image is 32 X 32 X 3. This will be compressed to 8 X 8 X 8 using an autoencoder (3072 variables to 512 variables).</h5>"
   ]
  },
  {
   "cell_type": "code",
   "execution_count": 8,
   "metadata": {},
   "outputs": [
    {
     "name": "stdout",
     "output_type": "stream",
     "text": [
      "Collecting opencv-python\n",
      "  Downloading opencv_python-4.5.5.62-cp36-abi3-win_amd64.whl (35.4 MB)\n",
      "Requirement already satisfied: numpy>=1.13.3 in c:\\users\\hamroua\\anaconda3\\envs\\deeplearning\\lib\\site-packages (from opencv-python) (1.19.5)\n",
      "Installing collected packages: opencv-python\n",
      "Successfully installed opencv-python-4.5.5.62\n"
     ]
    }
   ],
   "source": [
    "!pip install opencv-python\n"
   ]
  },
  {
   "cell_type": "code",
   "execution_count": 1,
   "metadata": {},
   "outputs": [
    {
     "name": "stdout",
     "output_type": "stream",
     "text": [
      "WARNING:tensorflow:From C:\\Users\\HAMROUA\\Anaconda3\\envs\\deeplearning\\lib\\site-packages\\tensorflow\\python\\compat\\v2_compat.py:101: disable_resource_variables (from tensorflow.python.ops.variable_scope) is deprecated and will be removed in a future version.\n",
      "Instructions for updating:\n",
      "non-resource variables are not supported in the long term\n",
      "Number of train photos:  860\n",
      "Number of test photos:  282\n"
     ]
    },
    {
     "data": {
      "image/png": "[encoded data removed]",
      "text/plain": [
       "<Figure size 432x288 with 1 Axes>"
      ]
     },
     "metadata": {
      "needs_background": "light"
     },
     "output_type": "display_data"
    }
   ],
   "source": [
    "from keras.datasets import cifar100\n",
    "from keras.layers import Conv2D, MaxPooling2D, UpSampling2D\n",
    "from keras.models import Model, Sequential, load_model\n",
    "import os\n",
    "import copy\n",
    "import matplotlib.pyplot as plt\n",
    "import numpy as np\n",
    "from autoencoder_utils import *\n",
    "import math\n",
    "import cv2\n",
    "\n",
    "import matplotlib.pyplot as plt\n",
    "\n",
    "\n",
    "\n",
    "pathTrain='C:\\\\Users\\\\HAMROUA\\\\Desktop\\\\BackupDesktop\\\\Desktop\\\\Autoencoder-image-similarity-master\\\\dataset\\\\train\\\\';\n",
    "all_images = []\n",
    "subjects = os.listdir(pathTrain)\n",
    "numberOfSubject = len(subjects)\n",
    "print('Number of train photos: ', numberOfSubject)\n",
    "for number1 in range(0, numberOfSubject):  # numberOfSubject\n",
    "    path3 = pathTrain + subjects[number1]\n",
    "    img = cv2.imread(path3 , 1)\n",
    "    img = cv2.resize(img,(64, 64))\n",
    "    img = cv2.cvtColor(img, cv2.COLOR_BGR2RGB)\n",
    "    plt.imshow(img)\n",
    "    all_images.append(img)\n",
    "x_train = np.array(all_images)\n",
    "\n",
    "\n",
    "\n",
    "pathTest='C:\\\\Users\\\\HAMROUA\\\\Desktop\\\\BackupDesktop\\\\Desktop\\\\Autoencoder-image-similarity-master\\\\dataset\\\\test\\\\';\n",
    "all_images = []\n",
    "subjects = os.listdir(pathTest)\n",
    "numberOfSubject = len(subjects)\n",
    "print('Number of test photos: ', numberOfSubject)\n",
    "for number1 in range(0, numberOfSubject):  # numberOfSubject\n",
    "    path3 = pathTest + subjects[number1]\n",
    "    img = cv2.imread(path3 , 1)\n",
    "    img = cv2.resize(img,(64, 64))\n",
    "    img = cv2.cvtColor(img, cv2.COLOR_BGR2RGB)\n",
    "    all_images.append(img)\n",
    "x_test = np.array(all_images)\n",
    "\n",
    "\n",
    "\n",
    "X_train = np.reshape(x_train, (len(x_train), 64, 64, 3)) / 255.\n",
    "X_test = np.reshape(x_test, (len(x_test), 64, 64, 3)) / 255."
   ]
  },
  {
   "cell_type": "code",
   "execution_count": 2,
   "metadata": {},
   "outputs": [],
   "source": [
    "autoencoder = Sequential()\n",
    "\n",
    "input_shape = (64, 64, 3)\n",
    "autoencoder.add(Conv2D(16, (3, 3), activation='relu', padding='same', kernel_initializer='he_normal', input_shape=input_shape))\n",
    "autoencoder.add(Conv2D(32, (3, 3), activation='relu', padding='same', kernel_initializer='he_normal'))\n",
    "autoencoder.add(Conv2D(64, (3, 3), activation='relu', padding='same', kernel_initializer='he_normal'))\n",
    "autoencoder.add(MaxPooling2D((2, 2)))\n",
    "autoencoder.add(Conv2D(128, (3, 3), activation='relu', padding='same', kernel_initializer='he_normal'))\n",
    "autoencoder.add(Conv2D(64, (3, 3), activation='relu', padding='same', kernel_initializer='he_normal'))\n",
    "autoencoder.add(MaxPooling2D((2, 2)))\n",
    "autoencoder.add(Conv2D(32, (3, 3), activation='relu', padding='same', kernel_initializer='he_normal'))\n",
    "autoencoder.add(Conv2D(16, (3, 3), activation='relu', padding='same', kernel_initializer='he_normal'))\n",
    "\n",
    "autoencoder.add(Conv2D(8, (3, 3), activation='sigmoid', padding='same', name='encoded_layer'))\n",
    "#at this point, 'encoded' is (8, 8, 8)\n",
    "\n",
    "autoencoder.add(Conv2D(16, (3, 3), activation='relu', padding='same', kernel_initializer='he_normal'))\n",
    "autoencoder.add(Conv2D(32, (3, 3), activation='relu', padding='same', kernel_initializer='he_normal'))\n",
    "autoencoder.add(UpSampling2D((2, 2)))\n",
    "autoencoder.add(Conv2D(64, (3, 3), activation='relu', padding='same', kernel_initializer='he_normal'))\n",
    "autoencoder.add(Conv2D(128, (3, 3), activation='relu', padding='same', kernel_initializer='he_normal'))\n",
    "autoencoder.add(UpSampling2D((2, 2)))\n",
    "autoencoder.add(Conv2D(64, (3, 3), activation='relu', padding='same', kernel_initializer='he_normal'))\n",
    "autoencoder.add(Conv2D(32, (3, 3), activation='relu', padding='same', kernel_initializer='he_normal'))\n",
    "autoencoder.add(Conv2D(16, (3, 3), activation='relu', padding='same', kernel_initializer='he_normal'))\n",
    "autoencoder.add(Conv2D(3, (3, 3), activation='sigmoid', padding='same'))\n",
    "\n",
    "autoencoder.compile(optimizer='adam', loss='binary_crossentropy', metrics=['binary_crossentropy'])"
   ]
  },
  {
   "cell_type": "code",
   "execution_count": null,
   "metadata": {},
   "outputs": [
    {
     "name": "stdout",
     "output_type": "stream",
     "text": [
      "epoch: 0\n",
      "Train on 860 samples, validate on 200 samples\n",
      "860/860 [==============================] - ETA: 0s - loss: 0.6009 - binary_crossentropy: 0.6009"
     ]
    },
    {
     "name": "stderr",
     "output_type": "stream",
     "text": [
      "C:\\Users\\HAMROUA\\Anaconda3\\envs\\deeplearning\\lib\\site-packages\\keras\\engine\\training.py:2470: UserWarning: `Model.state_updates` will be removed in a future version. This property should not be used in TensorFlow 2.0, as `updates` are applied automatically.\n",
      "  warnings.warn('`Model.state_updates` will be removed in a future version. '\n"
     ]
    },
    {
     "name": "stdout",
     "output_type": "stream",
     "text": [
      "860/860 [==============================] - 37s 43ms/sample - loss: 0.6009 - binary_crossentropy: 0.6009 - val_loss: 0.5758 - val_binary_crossentropy: 0.5758\n",
      "epoch: 1\n",
      "Train on 860 samples, validate on 200 samples\n",
      "860/860 [==============================] - 34s 39ms/sample - loss: 0.5315 - binary_crossentropy: 0.5315 - val_loss: 0.5345 - val_binary_crossentropy: 0.5345\n",
      "epoch: 2\n",
      "Train on 860 samples, validate on 200 samples\n",
      "860/860 [==============================] - 33s 39ms/sample - loss: 0.5065 - binary_crossentropy: 0.5065 - val_loss: 0.5260 - val_binary_crossentropy: 0.5260\n",
      "epoch: 3\n",
      "Train on 860 samples, validate on 200 samples\n",
      "860/860 [==============================] - 34s 39ms/sample - loss: 0.4931 - binary_crossentropy: 0.4931 - val_loss: 0.4913 - val_binary_crossentropy: 0.4913\n",
      "epoch: 4\n",
      "Train on 860 samples, validate on 200 samples\n",
      "860/860 [==============================] - 33s 39ms/sample - loss: 0.4823 - binary_crossentropy: 0.4823 - val_loss: 0.5000 - val_binary_crossentropy: 0.5000\n",
      "epoch: 5\n",
      "Train on 860 samples, validate on 200 samples\n",
      "860/860 [==============================] - 33s 39ms/sample - loss: 0.4733 - binary_crossentropy: 0.4733 - val_loss: 0.4896 - val_binary_crossentropy: 0.4896\n",
      "epoch: 6\n",
      "Train on 860 samples, validate on 200 samples\n",
      "860/860 [==============================] - 33s 39ms/sample - loss: 0.4676 - binary_crossentropy: 0.4676 - val_loss: 0.4895 - val_binary_crossentropy: 0.4895\n",
      "epoch: 7\n",
      "Train on 860 samples, validate on 200 samples\n",
      "860/860 [==============================] - 33s 39ms/sample - loss: 0.4666 - binary_crossentropy: 0.4666 - val_loss: 0.4947 - val_binary_crossentropy: 0.4947\n",
      "epoch: 8\n",
      "Train on 860 samples, validate on 200 samples\n",
      "860/860 [==============================] - 33s 39ms/sample - loss: 0.4615 - binary_crossentropy: 0.4615 - val_loss: 0.4820 - val_binary_crossentropy: 0.4820\n",
      "epoch: 9\n",
      "Train on 860 samples, validate on 200 samples\n",
      "860/860 [==============================] - 38s 44ms/sample - loss: 0.4591 - binary_crossentropy: 0.4591 - val_loss: 0.4817 - val_binary_crossentropy: 0.4817\n",
      "epoch: 10\n",
      "Train on 860 samples, validate on 200 samples\n",
      "860/860 [==============================] - 35s 41ms/sample - loss: 0.4630 - binary_crossentropy: 0.4630 - val_loss: 0.4787 - val_binary_crossentropy: 0.4787\n",
      "epoch: 11\n",
      "Train on 860 samples, validate on 200 samples\n",
      "860/860 [==============================] - 33s 39ms/sample - loss: 0.4608 - binary_crossentropy: 0.4608 - val_loss: 0.4691 - val_binary_crossentropy: 0.4691\n",
      "epoch: 12\n",
      "Train on 860 samples, validate on 200 samples\n",
      "384/860 [============>.................] - ETA: 18s - loss: 0.4570 - binary_crossentropy: 0.4570"
     ]
    }
   ],
   "source": [
    "epochs = 100\n",
    "batch_size = 64\n",
    "training_batch_size = 1000\n",
    "number_training_batch_per_epoch = math.ceil(X_train.shape[0] / training_batch_size)\n",
    "\n",
    "#not the most ideal way of iterating through a dataset\n",
    "for epoch in range(epochs):\n",
    "    print('epoch: {}'.format(epoch))\n",
    "    np.random.shuffle(X_train)\n",
    "    np.random.shuffle(X_test)\n",
    "    for batchnum in range(number_training_batch_per_epoch):\n",
    "        X_train_batch = X_train[batchnum*training_batch_size : (batchnum+1)*training_batch_size]\n",
    "        autoencoder.fit(X_train_batch, X_train_batch,\n",
    "                        epochs=1,\n",
    "                        batch_size=batch_size,\n",
    "                        shuffle=True,\n",
    "                        validation_data=(X_test[0:200], X_test[0:200]))\n"
   ]
  },
  {
   "cell_type": "code",
   "execution_count": 4,
   "metadata": {},
   "outputs": [
    {
     "name": "stdout",
     "output_type": "stream",
     "text": [
      "WARNING:tensorflow:From C:\\Users\\Preda\\anaconda3\\envs\\python36\\lib\\site-packages\\tensorflow\\python\\ops\\init_ops.py:97: calling Zeros.__init__ (from tensorflow.python.ops.init_ops) with dtype is deprecated and will be removed in a future version.\n",
      "Instructions for updating:\n",
      "Call initializer instance with the dtype argument instead of passing it to the constructor\n",
      "WARNING:tensorflow:From C:\\Users\\Preda\\anaconda3\\envs\\python36\\lib\\site-packages\\tensorflow\\python\\ops\\init_ops.py:97: calling GlorotUniform.__init__ (from tensorflow.python.ops.init_ops) with dtype is deprecated and will be removed in a future version.\n",
      "Instructions for updating:\n",
      "Call initializer instance with the dtype argument instead of passing it to the constructor\n"
     ]
    }
   ],
   "source": [
    "#import h5py\n",
    "\n",
    "#autoencoder.save('autoencoder_ISCAS.h5')\n",
    "#autoencoder = load_model('autoencoder_MWSCAS.h5')"
   ]
  },
  {
   "cell_type": "markdown",
   "metadata": {},
   "source": [
    "<h5>\n",
    "The code below displays the original and autoencoded versions of 10 images.\n",
    "<br>\n",
    "In most cases, the original object can be discerned from the autoencoded version of the image.\n",
    "</h5>"
   ]
  },
  {
   "cell_type": "code",
   "execution_count": null,
   "metadata": {},
   "outputs": [],
   "source": [
    "n = 10\n",
    "img_to_show_idx = np.random.choice(range(X_test.shape[0]), n, replace=False)\n",
    "X_test_to_show = X_test[img_to_show_idx]\n",
    "aft_autoencode = autoencoder.predict(X_test_to_show)\n",
    "\n",
    "fig = plt.figure(figsize=(n*2, 5))\n",
    "plt.gray()\n",
    "img_shape = (64, 64, 3)\n",
    "\n",
    "for i in range(n):\n",
    "    #display original\n",
    "    display_single_subplot(X_test_to_show[i].reshape(img_shape), n_row=2, n_col=n, cell_num=i+1)\n",
    "    #display aft autoencoding\n",
    "    display_single_subplot(aft_autoencode[i].reshape(img_shape), n_row=2, n_col=n, cell_num=n+i+1)\n",
    "\n",
    "plt.show()"
   ]
  },
  {
   "cell_type": "markdown",
   "metadata": {
    "collapsed": true
   },
   "source": [
    "<h3>\n",
    "Part 2 -- selecting similar images\n",
    "</h3>\n",
    "<h5>\n",
    "Given an image, select the most similar and dissimilar images, using binary cross entropy to determine similarity\n",
    "</h5>"
   ]
  },
  {
   "cell_type": "code",
   "execution_count": null,
   "metadata": {},
   "outputs": [],
   "source": [
    "#find images similar to the image at this index\n",
    "img_to_find_idx = 111\n",
    "\n",
    "layer_name = 'encoded_layer'\n",
    "encoder = Model(inputs=autoencoder.input, outputs=autoencoder.get_layer(layer_name).output)\n",
    "\n",
    "similarity_sorted = get_sorted_similarity_idx(encoder, img_to_find_idx, dataset=X_test, loss='binary_crossentropy')\n"
   ]
  },
  {
   "cell_type": "markdown",
   "metadata": {},
   "source": [
    "<h5>\n",
    "In most cases, images with a similar color / shape are deemed to be similar.\n",
    "<br><br>\n",
    "Images containing the same type of object aren't deemed to be similar, since the comparison function doesn't take object type into account.\n",
    "</h5>"
   ]
  },
  {
   "cell_type": "code",
   "execution_count": null,
   "metadata": {},
   "outputs": [],
   "source": [
    "#show original image, n most similar images, n most dissimilar images\n",
    "n = 10\n",
    "image_dataset = X_test\n",
    "\n",
    "plt.figure(figsize=(n*2, n/1.5))\n",
    "img_shape = (64, 64, 3)\n",
    "\n",
    "#display original\n",
    "display_single_subplot(image_dataset[img_to_find_idx].reshape(img_shape), n_row=3, n_col=n, cell_num=1)\n",
    "\n",
    "# #display most similar\n",
    "for i in range(n):\n",
    "    similar_idx = similarity_sorted[i]\n",
    "    display_single_subplot(image_dataset[similar_idx].reshape(img_shape), n_row=3, n_col=n, cell_num=n+i+1)\n",
    "\n",
    "# #display most dissimilar\n",
    "for i in range(n):\n",
    "    dissimilar_idx = similarity_sorted[-i-1]\n",
    "    display_single_subplot(image_dataset[dissimilar_idx].reshape(img_shape), n_row=3, n_col=n, cell_num=2*n+i+1)\n",
    "\n",
    "plt.show()"
   ]
  },
  {
   "cell_type": "markdown",
   "metadata": {
    "collapsed": true
   },
   "source": [
    "<h5>Compare to 'baseline', binary cross entropy comparison of original image pixels.</h5>"
   ]
  },
  {
   "cell_type": "code",
   "execution_count": null,
   "metadata": {},
   "outputs": [],
   "source": [
    "import tensorflow.compat.v1 as tf\n",
    "tf.disable_v2_behavior() \n",
    "from keras.losses import binary_crossentropy\n",
    "from tensorflow.keras.losses import cosine_similarity \n",
    "import copy\n",
    "\n",
    "\n",
    "img_to_find_idx = 111\n",
    "dataset = copy.deepcopy(X_test)\n",
    "dataset = dataset.reshape(dataset.shape[0], -1)\n",
    "#initializing vars to pass into tensorflow\n",
    "X_selected = [dataset[img_to_find_idx].tolist() for _ in range(dataset.shape[0])]\n",
    "X_all = dataset.tolist()\n",
    "\n",
    "X_selected_tf = tf.Variable(X_selected, tf.float32)\n",
    "X_all_tf = tf.Variable(X_all, tf.float32)\n",
    "loss_tf = binary_crossentropy(X_selected_tf, X_all_tf)\n",
    "init_op = tf.global_variables_initializer()\n",
    "\n",
    "similarity = []\n",
    "with tf.Session() as sess:\n",
    "    sess.run(init_op)\n",
    "    similarity = sess.run(loss_tf)\n",
    "similarity_sorted = np.argsort(np.array(similarity))[1:] #the same figure appears in X_all too, so remove it"
   ]
  },
  {
   "cell_type": "code",
   "execution_count": null,
   "metadata": {},
   "outputs": [],
   "source": [
    "n=10\n",
    "fig = plt.figure(figsize=(n*2, n/1.5))\n",
    "plt.gray()\n",
    "fig.suptitle('First row: original image. Second row: most similar images. Third row: least similar images')\n",
    "\n",
    "img_shape = (64, 64, 3)\n",
    "\n",
    "#display original\n",
    "display_single_subplot(X_test[img_to_find_idx].reshape(img_shape), n_row=3, n_col=n, cell_num=1)\n",
    "#display most similar\n",
    "for i in range(n):\n",
    "    similar_idx = similarity_sorted[i]\n",
    "    display_single_subplot(X_test[similar_idx].reshape(img_shape), n_row=3, n_col=n, cell_num=n+i+1)\n",
    "    \n",
    "#display most dissimilar\n",
    "for i in range(n):\n",
    "    dissimilar_idx = similarity_sorted[-i-1]\n",
    "    display_single_subplot(X_test[dissimilar_idx].reshape(img_shape), n_row=3, n_col=n, cell_num=2*n+i+1)\n",
    "\n",
    "plt.show()"
   ]
  },
  {
   "cell_type": "code",
   "execution_count": null,
   "metadata": {},
   "outputs": [],
   "source": [
    "from sklearn.decomposition import PCA\n",
    "from sklearn.cluster import KMeans\n",
    "import random\n",
    "#an attempt to reduce the dimensions so that k-means clustering can work better\n",
    "layer_name = 'encoded_layer'\n",
    "encoder = Model(inputs=autoencoder.input, outputs=autoencoder.get_layer(layer_name).output)\n",
    "decoded_imgs = autoencoder.predict(X_test)\n",
    "\n",
    "pred = encoder.predict(X_test)\n",
    "print(pred.shape)\n",
    "pca = PCA(n_components=6)\n",
    "pred.resize(10000,50)\n",
    "principalComponents = pca.fit_transform(pred)\n",
    "kmeans=KMeans(n_clusters=10,init='k-means++',max_iter=1000)\n",
    "clustered_images = kmeans.fit_predict(principalComponents)\n",
    "copy=clustered_images\n",
    "for i in range(10):\n",
    "    n = 10\n",
    "    count = 0 \n",
    "    print(\"Class \",i)\n",
    "    indices = np.array(np.where(copy==i))\n",
    "    plt.figure(figsize=(20, 4))\n",
    "    for j in range(n):\n",
    "      # display original\n",
    "        pos = random.randint(0,243)\n",
    "        ax = plt.subplot(2, n,j + 1)\n",
    "        plt.imshow(X_test[pos].reshape(64,64,3))\n",
    "        plt.gray()\n",
    "        ax.get_xaxis().set_visible(False)\n",
    "        ax.get_yaxis().set_visible(False)\n",
    "\n",
    "      # display reconstruction\n",
    "        ax = plt.subplot(2, n, j + 1 + n)\n",
    "        plt.imshow(decoded_imgs[pos].reshape(64,64,3))\n",
    "        plt.gray()\n",
    "        ax.get_xaxis().set_visible(False)\n",
    "        ax.get_yaxis().set_visible(False)\n",
    "        count+=1\n",
    "    plt.show()"
   ]
  },
  {
   "cell_type": "code",
   "execution_count": null,
   "metadata": {},
   "outputs": [],
   "source": [
    "# Plot the clusters\n",
    "\n",
    "import matplotlib.pyplot as plt\n",
    "\n",
    "#filter rows of original data\n",
    "filtered_label0 = principalComponents[clustered_images == 0]\n",
    "filtered_label1 = principalComponents[clustered_images == 1]\n",
    "filtered_label2 = principalComponents[clustered_images == 2]\n",
    "filtered_label3 = principalComponents[clustered_images == 3]\n",
    "filtered_label4 = principalComponents[clustered_images == 4]\n",
    "filtered_label5 = principalComponents[clustered_images == 5]\n",
    "filtered_label6 = principalComponents[clustered_images == 6]\n",
    "\n",
    "\n",
    "#plotting the results\n",
    "plt.scatter(filtered_label0[:,0] , filtered_label0[:,1] , color = 'blue')\n",
    "plt.scatter(filtered_label1[:,0] , filtered_label1[:,1] , color = 'black')\n",
    "plt.scatter(filtered_label2[:,0] , filtered_label2[:,1] , color = 'yellow')\n",
    "plt.scatter(filtered_label3[:,0] , filtered_label3[:,1] , color = 'orange')\n",
    "plt.scatter(filtered_label4[:,0] , filtered_label4[:,1] , color = 'cyan')\n",
    "plt.scatter(filtered_label5[:,0] , filtered_label5[:,1] , color = 'green')\n",
    "plt.scatter(filtered_label6[:,0] , filtered_label6[:,1] , color = 'pink')\n",
    "\n",
    "plt.scatter(kmeans.cluster_centers_[:, 0], \n",
    "            kmeans.cluster_centers_[:, 1], \n",
    "            s=100,                             # Set centroid size\n",
    "            c='red')                           # Set centroid color\n",
    "\n",
    "\n",
    "#Plotting the results\n",
    "\n",
    "\n",
    "plt.show()"
   ]
  },
  {
   "cell_type": "code",
   "execution_count": null,
   "metadata": {},
   "outputs": [],
   "source": []
  }
 ],
 "metadata": {
  "kernelspec": {
   "display_name": "Python 3",
   "language": "python",
   "name": "python3"
  },
  "language_info": {
   "codemirror_mode": {
    "name": "ipython",
    "version": 3
   },
   "file_extension": ".py",
   "mimetype": "text/x-python",
   "name": "python",
   "nbconvert_exporter": "python",
   "pygments_lexer": "ipython3",
   "version": "3.6.13"
  }
 },
 "nbformat": 4,
 "nbformat_minor": 2
}
