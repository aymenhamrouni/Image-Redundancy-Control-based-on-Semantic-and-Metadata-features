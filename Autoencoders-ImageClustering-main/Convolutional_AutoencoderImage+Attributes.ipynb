{
 "cells": [
  {
   "cell_type": "code",
   "execution_count": 1,
   "metadata": {
    "id": "Ls3jh-hHvSWb"
   },
   "outputs": [],
   "source": [
    "import tensorflow as tf\n",
    "from tensorflow import keras\n",
    "import numpy as np\n",
    "import matplotlib as mpl\n",
    "import matplotlib.pyplot as plt\n",
    "import pandas as pd\n",
    "from sklearn.cluster import KMeans\n",
    "from sklearn.metrics import confusion_matrix\n",
    "import random\n",
    "from sklearn.decomposition import PCA"
   ]
  },
  {
   "cell_type": "code",
   "execution_count": 2,
   "metadata": {
    "id": "GoJTLlppvTUh"
   },
   "outputs": [],
   "source": [
    "from keras.datasets import cifar10"
   ]
  },
  {
   "cell_type": "code",
   "execution_count": 3,
   "metadata": {},
   "outputs": [
    {
     "name": "stdout",
     "output_type": "stream",
     "text": [
      "[name: \"/device:CPU:0\"\n",
      "device_type: \"CPU\"\n",
      "memory_limit: 268435456\n",
      "locality {\n",
      "}\n",
      "incarnation: 11485488740009550009\n",
      "xla_global_id: -1\n",
      ", name: \"/device:GPU:0\"\n",
      "device_type: \"GPU\"\n",
      "memory_limit: 1745276110\n",
      "locality {\n",
      "  bus_id: 1\n",
      "  links {\n",
      "  }\n",
      "}\n",
      "incarnation: 142632252232714830\n",
      "physical_device_desc: \"device: 0, name: NVIDIA GeForce RTX 3050 Ti Laptop GPU, pci bus id: 0000:01:00.0, compute capability: 8.6\"\n",
      "xla_global_id: 416903419\n",
      "]\n"
     ]
    }
   ],
   "source": [
    "from tensorflow.python.client import device_lib\n",
    "print(device_lib.list_local_devices())"
   ]
  },
  {
   "cell_type": "code",
   "execution_count": 4,
   "metadata": {
    "colab": {
     "base_uri": "https://localhost:8080/",
     "height": 50
    },
    "id": "Ky25HBaLvUWc",
    "outputId": "c306a5e7-3c1c-4fde-9688-78999ad1fd37",
    "scrolled": true
   },
   "outputs": [
    {
     "data": {
      "image/png": "[encoded data removed]",
      "text/plain": [
       "<Figure size 432x288 with 1 Axes>"
      ]
     },
     "metadata": {
      "needs_background": "light"
     },
     "output_type": "display_data"
    }
   ],
   "source": [
    "#importing dataset\n",
    "import cv2\n",
    "import os\n",
    "import matplotlib.pyplot as plt\n",
    "\n",
    "\n",
    "from keras.datasets import cifar100\n",
    "from keras.layers import Conv2D, MaxPooling2D, UpSampling2D\n",
    "from keras.models import Model, Sequential, load_model\n",
    "import os\n",
    "import copy\n",
    "import matplotlib.pyplot as plt\n",
    "import numpy as np\n",
    "import math\n",
    "import cv2\n",
    "\n",
    "import matplotlib.pyplot as plt\n",
    "\n",
    "path=r'C:\\Users\\HAMROUA\\Desktop\\Aymen\\KingsCollege\\\\'\n",
    "\n",
    "all_images = []\n",
    "imagename={}\n",
    "import glob, os\n",
    "\n",
    "#TimePreprocessing\n",
    "sequences=['seq1','seq2','seq3','seq4','seq5','seq6','seq7','seq8']    \n",
    "for sequence in sequences:\n",
    "    os.chdir(path+sequence)\n",
    "    for file in glob.glob(\"*.png\"):\n",
    "        img = cv2.imread(file , 1)\n",
    "        img = cv2.resize(img,(64, 64))\n",
    "        img = cv2.cvtColor(img, cv2.COLOR_BGR2RGB)\n",
    "        plt.imshow(img)\n",
    "        all_images.append(img)\n",
    "        imagename[sequence+'/'+file]=np.reshape(img, (1, 64, 64, 3)) / 255.\n",
    "\n",
    "        \n",
    "clusterpath=r'C:\\Users\\HAMROUA\\Desktop\\Aymen\\Clusters\\\\'\n",
    "\n",
    "import glob\n",
    "arr = os.listdir(clusterpath)\n",
    "clusterz={}\n",
    "for i in range(0,len(arr)):\n",
    "    os.chdir(clusterpath+'\\\\'+arr[i])\n",
    "    seq = os.listdir(clusterpath+'\\\\'+arr[i])\n",
    "    os.chdir(clusterpath+'\\\\'+arr[i]+'\\\\'+seq[0])\n",
    "    for file in glob.glob(\"*.png\"):\n",
    "        clusterz[seq[0]+'/'+file]=arr[i]\n",
    "\n",
    "\n",
    "def Loaddata(Nredundant):\n",
    "    rows = []\n",
    "    Y_test=[]\n",
    "    Y_train=[]\n",
    "    FinalData=[]\n",
    "    with open(path+'dataset_features.csv') as f:\n",
    "        for line in f:\n",
    "            # strip whitespace\n",
    "            line = line.strip()\n",
    "            # separate the columns\n",
    "            line = line.split(',')\n",
    "            # save the line for use later\n",
    "            rows.append(line)\n",
    "    for i in range(0,len(rows)*4//5):\n",
    "        image=imagename[rows[i][0]]\n",
    "        Time=np.reshape([float(rows[i][1])]*64*Nredundant*3, ( 1,64, Nredundant, 3))\n",
    "        X= np.reshape([float(rows[i][2])]*64*Nredundant*3, (1, 64, Nredundant, 3))\n",
    "        Y= np.reshape([float(rows[i][3])]*64*Nredundant*3, (1,64, Nredundant, 3))\n",
    "        Z= np.reshape([float(rows[i][4])]*64*Nredundant*3, (1,64, Nredundant, 3))\n",
    "        W= np.reshape([float(rows[i][5])]*64*Nredundant*3, (1,64, Nredundant, 3))\n",
    "        R= np.reshape([float(rows[i][6])]*64*Nredundant*3, (1,64, Nredundant, 3))\n",
    "\n",
    "        Data= np.concatenate((image,Time,X,Y,Z,W,R), axis=2)\n",
    "        FinalData.append(Data)\n",
    "        Y_train.append(clusterz[rows[i][0]])\n",
    "\n",
    "    X_train = np.reshape(FinalData, (len(FinalData), 64, Nredundant*6+64, 3))\n",
    "    Y_train = np.reshape(Y_train, (len(Y_train), 1))\n",
    "\n",
    "    FinalData=[]\n",
    "    for i in range(len(rows)*4//5,len(rows)):\n",
    "        image=imagename[rows[i][0]]\n",
    "        Time=np.reshape([float(rows[i][1])]*64*Nredundant*3, ( 1,64, Nredundant, 3))\n",
    "        X= np.reshape([float(rows[i][2])]*64*Nredundant*3, (1, 64, Nredundant, 3))\n",
    "        Y= np.reshape([float(rows[i][3])]*64*Nredundant*3, (1,64, Nredundant, 3))\n",
    "        Z= np.reshape([float(rows[i][4])]*64*Nredundant*3, (1,64, Nredundant, 3))\n",
    "        W= np.reshape([float(rows[i][5])]*64*Nredundant*3, (1,64, Nredundant, 3))\n",
    "        R= np.reshape([float(rows[i][6])]*64*Nredundant*3, (1,64, Nredundant, 3))\n",
    "\n",
    "        Data= np.concatenate((image,Time,X,Y,Z,W,R), axis=2)\n",
    "        FinalData.append(Data)\n",
    "        Y_test.append(clusterz[rows[i][0]])\n",
    "\n",
    "    X_test = np.reshape(FinalData, (len(FinalData), 64, Nredundant*6+64, 3))\n",
    "    Y_test = np.reshape(Y_test, (len(Y_test), 1))\n",
    "    X_train = X_train.astype('float32')\n",
    "    X_test = X_test.astype('float32')\n",
    "    return X_train,X_test,Y_train,Y_test\n",
    "\n",
    "\n"
   ]
  },
  {
   "cell_type": "code",
   "execution_count": 4,
   "metadata": {},
   "outputs": [
    {
     "ename": "NameError",
     "evalue": "name 'rows' is not defined",
     "output_type": "error",
     "traceback": [
      "\u001b[1;31m---------------------------------------------------------------------------\u001b[0m",
      "\u001b[1;31mNameError\u001b[0m                                 Traceback (most recent call last)",
      "\u001b[1;32m~\\AppData\\Local\\Temp/ipykernel_15328/3651051955.py\u001b[0m in \u001b[0;36m<module>\u001b[1;34m\u001b[0m\n\u001b[1;32m----> 1\u001b[1;33m \u001b[0mprint\u001b[0m\u001b[1;33m(\u001b[0m\u001b[0mrows\u001b[0m\u001b[1;33m[\u001b[0m\u001b[0mi\u001b[0m\u001b[1;33m]\u001b[0m\u001b[1;33m[\u001b[0m\u001b[1;36m0\u001b[0m\u001b[1;33m]\u001b[0m\u001b[1;33m)\u001b[0m\u001b[1;33m\u001b[0m\u001b[1;33m\u001b[0m\u001b[0m\n\u001b[0m\u001b[0;32m      2\u001b[0m \u001b[0mclusterz\u001b[0m\u001b[1;33m\u001b[0m\u001b[1;33m\u001b[0m\u001b[0m\n",
      "\u001b[1;31mNameError\u001b[0m: name 'rows' is not defined"
     ]
    }
   ],
   "source": [
    "print(rows[i][0])\n",
    "clusterz\n"
   ]
  },
  {
   "cell_type": "code",
   "execution_count": 5,
   "metadata": {},
   "outputs": [
    {
     "ename": "NameError",
     "evalue": "name 'Y_train' is not defined",
     "output_type": "error",
     "traceback": [
      "\u001b[1;31m---------------------------------------------------------------------------\u001b[0m",
      "\u001b[1;31mNameError\u001b[0m                                 Traceback (most recent call last)",
      "\u001b[1;32m~\\AppData\\Local\\Temp/ipykernel_15328/823390767.py\u001b[0m in \u001b[0;36m<module>\u001b[1;34m\u001b[0m\n\u001b[1;32m----> 1\u001b[1;33m \u001b[0mprint\u001b[0m\u001b[1;33m(\u001b[0m\u001b[0mY_train\u001b[0m\u001b[1;33m)\u001b[0m\u001b[1;33m\u001b[0m\u001b[1;33m\u001b[0m\u001b[0m\n\u001b[0m\u001b[0;32m      2\u001b[0m \u001b[0mprint\u001b[0m\u001b[1;33m(\u001b[0m\u001b[0mX_train\u001b[0m\u001b[1;33m.\u001b[0m\u001b[0mshape\u001b[0m\u001b[1;33m)\u001b[0m\u001b[1;33m\u001b[0m\u001b[1;33m\u001b[0m\u001b[0m\n\u001b[0;32m      3\u001b[0m \u001b[0mprint\u001b[0m\u001b[1;33m(\u001b[0m\u001b[0mX_test\u001b[0m\u001b[1;33m.\u001b[0m\u001b[0mshape\u001b[0m\u001b[1;33m)\u001b[0m\u001b[1;33m\u001b[0m\u001b[1;33m\u001b[0m\u001b[0m\n",
      "\u001b[1;31mNameError\u001b[0m: name 'Y_train' is not defined"
     ]
    }
   ],
   "source": [
    "print(Y_train)\n",
    "print(X_train.shape)\n",
    "print(X_test.shape)"
   ]
  },
  {
   "cell_type": "markdown",
   "metadata": {},
   "source": [
    "# Model Training"
   ]
  },
  {
   "cell_type": "code",
   "execution_count": 5,
   "metadata": {
    "id": "nC97OtwxvcEN"
   },
   "outputs": [],
   "source": [
    "#Model\n",
    "#encoder\n",
    "def model(Nredundant):\n",
    "    input_img = tf.keras.layers.Input(shape=(64, Nredundant*6+64, 3))\n",
    "\n",
    "    encoder = tf.keras.layers.Conv2D(filters=32,kernel_size=(3,3),padding='same',kernel_initializer='he_normal')(input_img)\n",
    "    encoder = tf.keras.layers.Activation('relu')(encoder)\n",
    "    encoder = tf.keras.layers.BatchNormalization()(encoder)\n",
    "\n",
    "    encoder = tf.keras.layers.Conv2D(filters=32,kernel_size=(3,3),padding='same',kernel_initializer='he_normal',kernel_regularizer=tf.keras.regularizers.l2(0.008))(encoder)\n",
    "    encoder = tf.keras.layers.Activation('relu')(encoder)\n",
    "    encoder = tf.keras.layers.BatchNormalization()(encoder)\n",
    "\n",
    "    encoder = tf.keras.layers.MaxPool2D(pool_size=(2,2),strides=2)(encoder)\n",
    "    encoder = tf.keras.layers.Dropout(0.5)(encoder)\n",
    "\n",
    "    encoder = tf.keras.layers.Conv2D(filters=64,kernel_size=(3,3),padding='same',kernel_initializer='he_normal',kernel_regularizer=tf.keras.regularizers.l2(0.008))(encoder)\n",
    "    encoder = tf.keras.layers.Activation('relu')(encoder)\n",
    "    encoder = tf.keras.layers.BatchNormalization()(encoder)\n",
    "\n",
    "    encoder = tf.keras.layers.Conv2D(filters=64,kernel_size=(3,3),padding='same',kernel_initializer='he_normal',kernel_regularizer=tf.keras.regularizers.l2(0.008))(encoder)\n",
    "    encoder = tf.keras.layers.Activation('relu')(encoder)\n",
    "    encoder = tf.keras.layers.BatchNormalization()(encoder)\n",
    "\n",
    "    encoder = tf.keras.layers.MaxPool2D(pool_size=(2,2),strides=2)(encoder)\n",
    "    encoder = tf.keras.layers.Dropout(0.5)(encoder)\n",
    "\n",
    "    encoder = tf.keras.layers.Conv2D(filters=128,kernel_size=(3,3),padding='same',kernel_initializer='he_uniform')(encoder)\n",
    "    encoder = tf.keras.layers.Activation('relu')(encoder)\n",
    "    encoder = tf.keras.layers.BatchNormalization()(encoder)\n",
    "\n",
    "    encoder = tf.keras.layers.Conv2D(filters=128,kernel_size=(3,3),padding='same',kernel_initializer='he_uniform')(encoder)\n",
    "    encoder = tf.keras.layers.Activation('relu')(encoder)\n",
    "    encoder = tf.keras.layers.BatchNormalization()(encoder)\n",
    "\n",
    "    encoder = tf.keras.layers.MaxPool2D(pool_size=(2,2),strides=2)(encoder)\n",
    "    encoder = tf.keras.layers.Dropout(0.5)(encoder)\n",
    "\n",
    "    encoder = tf.keras.layers.Flatten()(encoder)\n",
    "    encoder = tf.keras.layers.Dense(256,activation='relu',kernel_initializer='he_uniform')(encoder)\n",
    "    encoder_out = tf.keras.layers.Dense(256,activation='relu',kernel_initializer='he_uniform')(encoder)\n",
    "    \n",
    "    \n",
    "    number=[]\n",
    "    number.append(Nredundant*6+64)\n",
    "    compute=Nredundant*6+64\n",
    "    mini=(4+Nredundant//3)*1024//(4*256)\n",
    "    while compute>mini:\n",
    "        compute=compute//2\n",
    "        number.append(compute)\n",
    "    print(number)\n",
    "    if number[-3]%2!=0:\n",
    "        a1=3\n",
    "    else:\n",
    "        a1=2\n",
    "    if number[-4]%2!=0:\n",
    "        a2=3\n",
    "    else:\n",
    "        a2=2\n",
    "    if number[-5]%2!=0:\n",
    "        a3=3\n",
    "    else:\n",
    "        a3=2\n",
    "    #decoder\n",
    "    \n",
    "    \n",
    "    decoder_mul = tf.keras.layers.Dense(number[-2]*8*128)(encoder_out)\n",
    "    decoder_reshape = tf.keras.layers.Reshape((8,number[-2],128))(decoder_mul)\n",
    "    decoder = tf.keras.layers.Conv2DTranspose(filters=128, kernel_size=(2,a1), strides=2, activation='relu', padding='valid')(decoder_reshape)\n",
    "    decoder = tf.keras.layers.BatchNormalization()(decoder)\n",
    "    decoder = tf.keras.layers.Dropout(0.5)(decoder)\n",
    "    decoder = tf.keras.layers.Conv2DTranspose(filters=64, kernel_size=(2,a2), strides=2, activation='relu', padding='valid')(decoder)\n",
    "    decoder = tf.keras.layers.BatchNormalization()(decoder)\n",
    "    decoder = tf.keras.layers.Dropout(0.5)(decoder)\n",
    "    decoder = tf.keras.layers.Conv2DTranspose(filters=32, kernel_size=(2,a3), strides=2, activation='relu', padding='valid')(decoder)\n",
    "    decoder = tf.keras.layers.BatchNormalization()(decoder)\n",
    "    decoder = tf.keras.layers.Conv2DTranspose(filters=3, kernel_size=(3,3), strides=1, activation=None, padding='same')(decoder)\n",
    "    decoder = tf.keras.layers.Activation('sigmoid')(decoder)\n",
    "    return input_img,encoder,decoder"
   ]
  },
  {
   "cell_type": "code",
   "execution_count": 6,
   "metadata": {
    "id": "AQXGTqEyvgBs"
   },
   "outputs": [
    {
     "name": "stdout",
     "output_type": "stream",
     "text": [
      "[94, 47, 23, 11, 5]\n",
      "Model: \"model\"\n",
      "_________________________________________________________________\n",
      " Layer (type)                Output Shape              Param #   \n",
      "=================================================================\n",
      " input_1 (InputLayer)        [(None, 64, 94, 3)]       0         \n",
      "                                                                 \n",
      " conv2d (Conv2D)             (None, 64, 94, 32)        896       \n",
      "                                                                 \n",
      " activation (Activation)     (None, 64, 94, 32)        0         \n",
      "                                                                 \n",
      " batch_normalization (BatchN  (None, 64, 94, 32)       128       \n",
      " ormalization)                                                   \n",
      "                                                                 \n",
      " conv2d_1 (Conv2D)           (None, 64, 94, 32)        9248      \n",
      "                                                                 \n",
      " activation_1 (Activation)   (None, 64, 94, 32)        0         \n",
      "                                                                 \n",
      " batch_normalization_1 (Batc  (None, 64, 94, 32)       128       \n",
      " hNormalization)                                                 \n",
      "                                                                 \n",
      " max_pooling2d (MaxPooling2D  (None, 32, 47, 32)       0         \n",
      " )                                                               \n",
      "                                                                 \n",
      " dropout (Dropout)           (None, 32, 47, 32)        0         \n",
      "                                                                 \n",
      " conv2d_2 (Conv2D)           (None, 32, 47, 64)        18496     \n",
      "                                                                 \n",
      " activation_2 (Activation)   (None, 32, 47, 64)        0         \n",
      "                                                                 \n",
      " batch_normalization_2 (Batc  (None, 32, 47, 64)       256       \n",
      " hNormalization)                                                 \n",
      "                                                                 \n",
      " conv2d_3 (Conv2D)           (None, 32, 47, 64)        36928     \n",
      "                                                                 \n",
      " activation_3 (Activation)   (None, 32, 47, 64)        0         \n",
      "                                                                 \n",
      " batch_normalization_3 (Batc  (None, 32, 47, 64)       256       \n",
      " hNormalization)                                                 \n",
      "                                                                 \n",
      " max_pooling2d_1 (MaxPooling  (None, 16, 23, 64)       0         \n",
      " 2D)                                                             \n",
      "                                                                 \n",
      " dropout_1 (Dropout)         (None, 16, 23, 64)        0         \n",
      "                                                                 \n",
      " conv2d_4 (Conv2D)           (None, 16, 23, 128)       73856     \n",
      "                                                                 \n",
      " activation_4 (Activation)   (None, 16, 23, 128)       0         \n",
      "                                                                 \n",
      " batch_normalization_4 (Batc  (None, 16, 23, 128)      512       \n",
      " hNormalization)                                                 \n",
      "                                                                 \n",
      " conv2d_5 (Conv2D)           (None, 16, 23, 128)       147584    \n",
      "                                                                 \n",
      " activation_5 (Activation)   (None, 16, 23, 128)       0         \n",
      "                                                                 \n",
      " batch_normalization_5 (Batc  (None, 16, 23, 128)      512       \n",
      " hNormalization)                                                 \n",
      "                                                                 \n",
      " max_pooling2d_2 (MaxPooling  (None, 8, 11, 128)       0         \n",
      " 2D)                                                             \n",
      "                                                                 \n",
      " dropout_2 (Dropout)         (None, 8, 11, 128)        0         \n",
      "                                                                 \n",
      " flatten (Flatten)           (None, 11264)             0         \n",
      "                                                                 \n",
      " dense (Dense)               (None, 256)               2883840   \n",
      "                                                                 \n",
      " dense_1 (Dense)             (None, 256)               65792     \n",
      "                                                                 \n",
      " dense_2 (Dense)             (None, 11264)             2894848   \n",
      "                                                                 \n",
      " reshape (Reshape)           (None, 8, 11, 128)        0         \n",
      "                                                                 \n",
      " conv2d_transpose (Conv2DTra  (None, 16, 23, 128)      98432     \n",
      " nspose)                                                         \n",
      "                                                                 \n",
      " batch_normalization_6 (Batc  (None, 16, 23, 128)      512       \n",
      " hNormalization)                                                 \n",
      "                                                                 \n",
      " dropout_3 (Dropout)         (None, 16, 23, 128)       0         \n",
      "                                                                 \n",
      " conv2d_transpose_1 (Conv2DT  (None, 32, 47, 64)       49216     \n",
      " ranspose)                                                       \n",
      "                                                                 \n",
      " batch_normalization_7 (Batc  (None, 32, 47, 64)       256       \n",
      " hNormalization)                                                 \n",
      "                                                                 \n",
      " dropout_4 (Dropout)         (None, 32, 47, 64)        0         \n",
      "                                                                 \n",
      " conv2d_transpose_2 (Conv2DT  (None, 64, 94, 32)       8224      \n",
      " ranspose)                                                       \n",
      "                                                                 \n",
      " batch_normalization_8 (Batc  (None, 64, 94, 32)       128       \n",
      " hNormalization)                                                 \n",
      "                                                                 \n",
      " conv2d_transpose_3 (Conv2DT  (None, 64, 94, 3)        867       \n",
      " ranspose)                                                       \n",
      "                                                                 \n",
      " activation_6 (Activation)   multiple                  0         \n",
      "                                                                 \n",
      "=================================================================\n",
      "Total params: 6,290,915\n",
      "Trainable params: 6,289,571\n",
      "Non-trainable params: 1,344\n",
      "_________________________________________________________________\n"
     ]
    }
   ],
   "source": [
    "Nredundant=5\n",
    "input_img,encoder,decoder=model(Nredundant)\n",
    "autoencoder = tf.keras.models.Model(input_img, decoder)\n",
    "encoder = tf.keras.models.Model(input_img, encoder)\n",
    "encoded_input = tf.keras.layers.Input(shape=(4, 4, 128))\n",
    "decoder_layer = autoencoder.layers[-1]\n",
    "decoder = tf.keras.models.Model(encoded_input,decoder_layer(encoded_input))\n",
    "autoencoder.summary()\n"
   ]
  },
  {
   "cell_type": "code",
   "execution_count": 8,
   "metadata": {
    "colab": {
     "base_uri": "https://localhost:8080/",
     "height": 1000
    },
    "id": "C9OqmiCBviE3",
    "outputId": "588ab827-0127-4d50-b88e-56f42ebe32fc"
   },
   "outputs": [
    {
     "ename": "NameError",
     "evalue": "name 'X_test' is not defined",
     "output_type": "error",
     "traceback": [
      "\u001b[1;31m---------------------------------------------------------------------------\u001b[0m",
      "\u001b[1;31mNameError\u001b[0m                                 Traceback (most recent call last)",
      "\u001b[1;32m~\\AppData\\Local\\Temp/ipykernel_15328/4111543394.py\u001b[0m in \u001b[0;36m<module>\u001b[1;34m\u001b[0m\n\u001b[1;32m----> 1\u001b[1;33m \u001b[0mprint\u001b[0m\u001b[1;33m(\u001b[0m\u001b[0mX_test\u001b[0m\u001b[1;33m.\u001b[0m\u001b[0mshape\u001b[0m\u001b[1;33m)\u001b[0m\u001b[1;33m\u001b[0m\u001b[1;33m\u001b[0m\u001b[0m\n\u001b[0m\u001b[0;32m      2\u001b[0m \u001b[0mprint\u001b[0m\u001b[1;33m(\u001b[0m\u001b[0mX_train\u001b[0m\u001b[1;33m.\u001b[0m\u001b[0mshape\u001b[0m\u001b[1;33m)\u001b[0m\u001b[1;33m\u001b[0m\u001b[1;33m\u001b[0m\u001b[0m\n",
      "\u001b[1;31mNameError\u001b[0m: name 'X_test' is not defined"
     ]
    }
   ],
   "source": [
    "print(X_test.shape)\n",
    "print(X_train.shape)"
   ]
  },
  {
   "cell_type": "code",
   "execution_count": 7,
   "metadata": {
    "colab": {
     "base_uri": "https://localhost:8080/",
     "height": 1000
    },
    "id": "99_Vo8MFvvhr",
    "outputId": "957af24e-6b18-4867-c604-aee6bb9f5461",
    "scrolled": true
   },
   "outputs": [
    {
     "name": "stdout",
     "output_type": "stream",
     "text": [
      "[70, 35, 17, 8, 4]\n",
      "Epoch 1/100\n",
      "25/25 [==============================] - 15s 135ms/step - loss: 2.0768 - val_loss: 1.5788\n",
      "Epoch 2/100\n",
      "25/25 [==============================] - 1s 54ms/step - loss: 1.1407 - val_loss: 0.8690\n",
      "Epoch 3/100\n",
      "25/25 [==============================] - 1s 54ms/step - loss: 0.6394 - val_loss: 0.5341\n",
      "Epoch 4/100\n",
      "25/25 [==============================] - 1s 55ms/step - loss: 0.3707 - val_loss: 0.3173\n",
      "Epoch 5/100\n",
      "25/25 [==============================] - 1s 57ms/step - loss: 0.2243 - val_loss: 0.2117\n",
      "Epoch 6/100\n",
      "25/25 [==============================] - 1s 58ms/step - loss: 0.1439 - val_loss: 0.1629\n",
      "Epoch 7/100\n",
      "25/25 [==============================] - 1s 58ms/step - loss: 0.0993 - val_loss: 0.1357\n",
      "Epoch 8/100\n",
      "25/25 [==============================] - 1s 58ms/step - loss: 0.0747 - val_loss: 0.1094\n",
      "Epoch 9/100\n",
      "25/25 [==============================] - 1s 57ms/step - loss: 0.0615 - val_loss: 0.1039\n",
      "Epoch 10/100\n",
      "25/25 [==============================] - 1s 58ms/step - loss: 0.0539 - val_loss: 0.0965\n",
      "Epoch 11/100\n",
      "25/25 [==============================] - 1s 58ms/step - loss: 0.0499 - val_loss: 0.0970\n",
      "Epoch 12/100\n",
      "25/25 [==============================] - 1s 58ms/step - loss: 0.0473 - val_loss: 0.0924\n",
      "Epoch 13/100\n",
      "25/25 [==============================] - 1s 60ms/step - loss: 0.0458 - val_loss: 0.0898\n",
      "Epoch 14/100\n",
      "25/25 [==============================] - 1s 60ms/step - loss: 0.0449 - val_loss: 0.0821\n",
      "Epoch 15/100\n",
      "25/25 [==============================] - 2s 63ms/step - loss: 0.0439 - val_loss: 0.0894\n",
      "Epoch 16/100\n",
      "25/25 [==============================] - 1s 60ms/step - loss: 0.0434 - val_loss: 0.0811\n",
      "Epoch 17/100\n",
      "25/25 [==============================] - 2s 62ms/step - loss: 0.0434 - val_loss: 0.0745\n",
      "Epoch 18/100\n",
      "25/25 [==============================] - 2s 63ms/step - loss: 0.0432 - val_loss: 0.0706\n",
      "Epoch 19/100\n",
      "25/25 [==============================] - 2s 64ms/step - loss: 0.0426 - val_loss: 0.0694\n",
      "Epoch 20/100\n",
      "25/25 [==============================] - 2s 64ms/step - loss: 0.0420 - val_loss: 0.0686\n",
      "Epoch 21/100\n",
      "25/25 [==============================] - 2s 63ms/step - loss: 0.0415 - val_loss: 0.0709\n",
      "Epoch 22/100\n",
      "25/25 [==============================] - 2s 65ms/step - loss: 0.0413 - val_loss: 0.0649\n",
      "Epoch 23/100\n",
      "25/25 [==============================] - 2s 64ms/step - loss: 0.0410 - val_loss: 0.0730\n",
      "Epoch 24/100\n",
      "25/25 [==============================] - 2s 64ms/step - loss: 0.0409 - val_loss: 0.0599\n",
      "Epoch 25/100\n",
      "25/25 [==============================] - 2s 63ms/step - loss: 0.0407 - val_loss: 0.0501\n",
      "Epoch 26/100\n",
      "25/25 [==============================] - 2s 63ms/step - loss: 0.0403 - val_loss: 0.0527\n",
      "Epoch 27/100\n",
      "25/25 [==============================] - 2s 61ms/step - loss: 0.0402 - val_loss: 0.0442\n",
      "Epoch 28/100\n",
      "25/25 [==============================] - 2s 64ms/step - loss: 0.0400 - val_loss: 0.0427\n",
      "Epoch 29/100\n",
      "25/25 [==============================] - 2s 63ms/step - loss: 0.0399 - val_loss: 0.0504\n",
      "Epoch 30/100\n",
      "25/25 [==============================] - 2s 62ms/step - loss: 0.0395 - val_loss: 0.0482\n",
      "Epoch 31/100\n",
      "25/25 [==============================] - 2s 61ms/step - loss: 0.0394 - val_loss: 0.0430\n",
      "Epoch 32/100\n",
      "25/25 [==============================] - 2s 60ms/step - loss: 0.0390 - val_loss: 0.0423\n",
      "Epoch 33/100\n",
      "25/25 [==============================] - 1s 60ms/step - loss: 0.0388 - val_loss: 0.0640\n",
      "Epoch 34/100\n",
      "25/25 [==============================] - 1s 60ms/step - loss: 0.0387 - val_loss: 0.0573\n",
      "Epoch 35/100\n",
      "25/25 [==============================] - 2s 61ms/step - loss: 0.0385 - val_loss: 0.0474\n",
      "Epoch 36/100\n",
      "25/25 [==============================] - 2s 64ms/step - loss: 0.0384 - val_loss: 0.0417\n",
      "Epoch 37/100\n",
      "25/25 [==============================] - 2s 62ms/step - loss: 0.0382 - val_loss: 0.0490\n",
      "Epoch 38/100\n",
      "25/25 [==============================] - 2s 63ms/step - loss: 0.0382 - val_loss: 0.0476\n",
      "Epoch 39/100\n",
      "25/25 [==============================] - 1s 60ms/step - loss: 0.0379 - val_loss: 0.0524\n",
      "Epoch 40/100\n",
      "25/25 [==============================] - 2s 61ms/step - loss: 0.0378 - val_loss: 0.0447\n",
      "Epoch 41/100\n",
      "25/25 [==============================] - 1s 57ms/step - loss: 0.0377 - val_loss: 0.0462\n",
      "Epoch 42/100\n",
      "25/25 [==============================] - 1s 59ms/step - loss: 0.0376 - val_loss: 0.0423\n",
      "Epoch 43/100\n",
      "25/25 [==============================] - 1s 58ms/step - loss: 0.0374 - val_loss: 0.0504\n",
      "Epoch 44/100\n",
      "25/25 [==============================] - 1s 58ms/step - loss: 0.0372 - val_loss: 0.0424\n",
      "Epoch 45/100\n",
      "25/25 [==============================] - 1s 59ms/step - loss: 0.0371 - val_loss: 0.0629\n",
      "Epoch 46/100\n",
      "25/25 [==============================] - 1s 59ms/step - loss: 0.0370 - val_loss: 0.0470\n",
      "Epoch 47/100\n",
      "25/25 [==============================] - 1s 58ms/step - loss: 0.0369 - val_loss: 0.0671\n",
      "Epoch 48/100\n",
      "25/25 [==============================] - 1s 57ms/step - loss: 0.0371 - val_loss: 0.0486\n",
      "Epoch 49/100\n",
      "25/25 [==============================] - 1s 56ms/step - loss: 0.0367 - val_loss: 0.0471\n",
      "Epoch 50/100\n",
      "25/25 [==============================] - 1s 56ms/step - loss: 0.0366 - val_loss: 0.0439\n",
      "Epoch 51/100\n",
      "25/25 [==============================] - 1s 58ms/step - loss: 0.0363 - val_loss: 0.0469\n",
      "Epoch 52/100\n",
      "25/25 [==============================] - 1s 56ms/step - loss: 0.0363 - val_loss: 0.0430\n",
      "Epoch 53/100\n",
      "25/25 [==============================] - 1s 56ms/step - loss: 0.0362 - val_loss: 0.0426\n",
      "Epoch 54/100\n",
      "25/25 [==============================] - 1s 56ms/step - loss: 0.0361 - val_loss: 0.0458\n",
      "Epoch 55/100\n",
      "25/25 [==============================] - 1s 56ms/step - loss: 0.0362 - val_loss: 0.0458\n",
      "Epoch 56/100\n",
      "25/25 [==============================] - 1s 56ms/step - loss: 0.0360 - val_loss: 0.0431\n",
      "Epoch 57/100\n",
      "25/25 [==============================] - 1s 56ms/step - loss: 0.0358 - val_loss: 0.0430\n",
      "Epoch 58/100\n",
      "25/25 [==============================] - 1s 56ms/step - loss: 0.0356 - val_loss: 0.0428\n",
      "Epoch 59/100\n",
      "25/25 [==============================] - 1s 56ms/step - loss: 0.0357 - val_loss: 0.0423\n",
      "Epoch 60/100\n",
      "25/25 [==============================] - 1s 57ms/step - loss: 0.0368 - val_loss: 0.0909\n",
      "Epoch 61/100\n",
      "25/25 [==============================] - 1s 58ms/step - loss: 0.0362 - val_loss: 0.0431\n",
      "Epoch 62/100\n",
      "25/25 [==============================] - 1s 59ms/step - loss: 0.0357 - val_loss: 0.0540\n",
      "Epoch 63/100\n",
      "25/25 [==============================] - 1s 58ms/step - loss: 0.0355 - val_loss: 0.0519\n",
      "Epoch 64/100\n",
      "25/25 [==============================] - 1s 57ms/step - loss: 0.0353 - val_loss: 0.0489\n",
      "Epoch 65/100\n",
      "25/25 [==============================] - 1s 57ms/step - loss: 0.0351 - val_loss: 0.0556\n",
      "Epoch 66/100\n",
      "25/25 [==============================] - 1s 58ms/step - loss: 0.0350 - val_loss: 0.0549\n",
      "Epoch 67/100\n",
      "25/25 [==============================] - 1s 58ms/step - loss: 0.0349 - val_loss: 0.0538\n",
      "Epoch 68/100\n",
      "25/25 [==============================] - 1s 58ms/step - loss: 0.0349 - val_loss: 0.0554\n",
      "Epoch 69/100\n",
      "25/25 [==============================] - 1s 58ms/step - loss: 0.0350 - val_loss: 0.0482\n",
      "Epoch 70/100\n",
      "25/25 [==============================] - 1s 59ms/step - loss: 0.0346 - val_loss: 0.0427\n",
      "Epoch 71/100\n",
      "25/25 [==============================] - 2s 61ms/step - loss: 0.0347 - val_loss: 0.0430\n",
      "Epoch 72/100\n",
      "25/25 [==============================] - 2s 73ms/step - loss: 0.0345 - val_loss: 0.0488\n",
      "Epoch 73/100\n",
      "25/25 [==============================] - 2s 63ms/step - loss: 0.0346 - val_loss: 0.0451\n",
      "Epoch 74/100\n",
      "25/25 [==============================] - 2s 62ms/step - loss: 0.0345 - val_loss: 0.0420\n",
      "Epoch 75/100\n",
      "25/25 [==============================] - 1s 59ms/step - loss: 0.0344 - val_loss: 0.0454\n",
      "Epoch 76/100\n",
      "25/25 [==============================] - 1s 59ms/step - loss: 0.0344 - val_loss: 0.0439\n",
      "Epoch 77/100\n",
      "25/25 [==============================] - 1s 59ms/step - loss: 0.0343 - val_loss: 0.0426\n",
      "Epoch 78/100\n",
      "25/25 [==============================] - 1s 59ms/step - loss: 0.0341 - val_loss: 0.0436\n",
      "Epoch 79/100\n",
      "25/25 [==============================] - 1s 60ms/step - loss: 0.0341 - val_loss: 0.0451\n",
      "Epoch 80/100\n",
      "25/25 [==============================] - 1s 60ms/step - loss: 0.0341 - val_loss: 0.0438\n",
      "Epoch 81/100\n",
      "25/25 [==============================] - 1s 60ms/step - loss: 0.0342 - val_loss: 0.0453\n"
     ]
    },
    {
     "name": "stdout",
     "output_type": "stream",
     "text": [
      "Epoch 82/100\n",
      "25/25 [==============================] - 1s 57ms/step - loss: 0.0343 - val_loss: 0.0510\n",
      "Epoch 83/100\n",
      "25/25 [==============================] - 1s 57ms/step - loss: 0.0340 - val_loss: 0.0454\n",
      "Epoch 84/100\n",
      "25/25 [==============================] - 1s 60ms/step - loss: 0.0341 - val_loss: 0.0435\n",
      "Epoch 85/100\n",
      "25/25 [==============================] - 2s 64ms/step - loss: 0.0339 - val_loss: 0.0432\n",
      "Epoch 86/100\n",
      "25/25 [==============================] - 2s 66ms/step - loss: 0.0339 - val_loss: 0.0494\n",
      "Epoch 87/100\n",
      "25/25 [==============================] - 2s 78ms/step - loss: 0.0338 - val_loss: 0.0433\n",
      "Epoch 88/100\n",
      "25/25 [==============================] - 2s 62ms/step - loss: 0.0336 - val_loss: 0.0421\n",
      "Epoch 89/100\n",
      "25/25 [==============================] - 1s 56ms/step - loss: 0.0338 - val_loss: 0.0469\n",
      "Epoch 90/100\n",
      "25/25 [==============================] - 1s 57ms/step - loss: 0.0339 - val_loss: 0.0691\n",
      "Epoch 91/100\n",
      "25/25 [==============================] - 1s 56ms/step - loss: 0.0338 - val_loss: 0.0485\n",
      "Epoch 92/100\n",
      "25/25 [==============================] - 1s 57ms/step - loss: 0.0336 - val_loss: 0.0474\n",
      "Epoch 93/100\n",
      "25/25 [==============================] - 1s 57ms/step - loss: 0.0334 - val_loss: 0.0469\n",
      "Epoch 94/100\n",
      "25/25 [==============================] - 1s 58ms/step - loss: 0.0333 - val_loss: 0.0478\n",
      "Epoch 95/100\n",
      "25/25 [==============================] - 1s 58ms/step - loss: 0.0332 - val_loss: 0.0443\n",
      "Epoch 96/100\n",
      "25/25 [==============================] - 1s 57ms/step - loss: 0.0332 - val_loss: 0.0444\n",
      "Epoch 97/100\n",
      "25/25 [==============================] - 1s 56ms/step - loss: 0.0333 - val_loss: 0.0442\n",
      "Epoch 98/100\n",
      "25/25 [==============================] - 1s 57ms/step - loss: 0.0332 - val_loss: 0.0432\n",
      "Epoch 99/100\n",
      "25/25 [==============================] - 1s 56ms/step - loss: 0.0332 - val_loss: 0.0463\n",
      "Epoch 100/100\n",
      "25/25 [==============================] - 1s 57ms/step - loss: 0.0332 - val_loss: 0.0442\n"
     ]
    }
   ],
   "source": [
    "Hist=[]\n",
    "from tensorflow.keras.models import Model\n",
    "from keras.models import load_model\n",
    "from tensorflow.keras.models import Sequential, save_model\n",
    "\n",
    "\n",
    "for  Nredundant in range(1,2,1):   \n",
    "    X_train,X_test,Y_train,Y_test=Loaddata(Nredundant)\n",
    "    input_img,encoder,decoder=model(Nredundant)\n",
    "    autoencoder = tf.keras.models.Model(input_img, decoder)\n",
    "    encoder = tf.keras.models.Model(input_img, encoder)\n",
    "    encoded_input = tf.keras.layers.Input(shape=(4, 4, 128))\n",
    "    decoder_layer = autoencoder.layers[-1]\n",
    "    decoder = tf.keras.models.Model(encoded_input,decoder_layer(encoded_input))\n",
    "    autoencoder.compile(loss='MeanSquaredError', optimizer='Adam')\n",
    "    history = autoencoder.fit(X_train,X_train,validation_data=(X_test, X_test),batch_size=50,epochs=100)\n",
    "    Hist.append(history)\n",
    "\n",
    "\n",
    "\n",
    "\n",
    "\n",
    "\n",
    "\n",
    "\n"
   ]
  },
  {
   "cell_type": "code",
   "execution_count": null,
   "metadata": {},
   "outputs": [],
   "source": [
    "from numba import cuda \n",
    "device = cuda.get_current_device()\n",
    "device.reset()"
   ]
  },
  {
   "cell_type": "code",
   "execution_count": 11,
   "metadata": {
    "colab": {
     "base_uri": "https://localhost:8080/",
     "height": 295
    },
    "id": "WfEzTIWhvwpl",
    "outputId": "5936427c-43f6-4a62-9580-8e714424af7e"
   },
   "outputs": [
    {
     "data": {
      "image/png": "[encoded data removed]",
      "text/plain": [
       "<Figure size 432x288 with 1 Axes>"
      ]
     },
     "metadata": {
      "needs_background": "light"
     },
     "output_type": "display_data"
    }
   ],
   "source": [
    "plt.plot(history.history['loss'])\n",
    "plt.plot(history.history['val_loss'])\n",
    "plt.title('Metadata Reconstruction loss')\n",
    "plt.ylabel('Loss')\n",
    "plt.xlabel('Epoch')\n",
    "plt.legend(['Train', 'Test'], loc='upper right')\n",
    "plt.show()"
   ]
  },
  {
   "cell_type": "markdown",
   "metadata": {},
   "source": [
    "# Image Clustering"
   ]
  },
  {
   "cell_type": "code",
   "execution_count": 12,
   "metadata": {},
   "outputs": [
    {
     "name": "stdout",
     "output_type": "stream",
     "text": [
      "Differance between images+attributes is: 11.769848167969048\n",
      "(1560, 64, 70, 3)\n",
      "Differance between attributes is: 0.0007643074480763424\n",
      "Differance between images is: 0.0009621285006531284\n",
      "Image before:\n",
      "AxesImage(54,36;334.8x217.44)\n",
      "(1560, 64, 70, 3)\n"
     ]
    },
    {
     "data": {
      "image/png": "[encoded data removed]",
      "text/plain": [
       "<Figure size 432x288 with 1 Axes>"
      ]
     },
     "metadata": {
      "needs_background": "light"
     },
     "output_type": "display_data"
    }
   ],
   "source": [
    "alldataset=np.concatenate((X_test, X_train), axis=0)\n",
    "\n",
    "decoded_imgs=autoencoder.predict(alldataset)\n",
    "\n",
    "\n",
    "print('Differance between images+attributes is:',sum(sum(sum(sum(abs(decoded_imgs-alldataset)))/(alldataset.shape[0]*alldataset.shape[1]*alldataset.shape[2]*alldataset.shape[3])))*100)\n",
    "\n",
    "print(decoded_imgs.shape)\n",
    "print('Differance between attributes is:',sum(sum(sum(sum(\n",
    "    abs(decoded_imgs[:,0:64,65:88,:]-alldataset[:,0:64,65:88,:])\n",
    "                        ))))/((int(alldataset.shape[0])*(88-65)*3*64)*100))\n",
    "\n",
    "\n",
    "print('Differance between images is:',sum(sum(sum(sum(\n",
    "    abs(decoded_imgs[:,0:64,0:64,:]-alldataset[:,0:64,0:64,:])\n",
    "                        ))))/((int(alldataset.shape[0])*64*3*64)*100))\n",
    "print('Image before:')\n",
    "print(plt.imshow(X_train[150][0:64,0:64,:]))\n",
    "\n",
    "\n",
    "print(alldataset.shape)\n"
   ]
  },
  {
   "cell_type": "code",
   "execution_count": null,
   "metadata": {},
   "outputs": [],
   "source": [
    "print('Image after:')\n",
    "print(plt.imshow(decoded_imgs[150][0:64,0:64,:]))\n",
    "# pred=decoded_imgs.copy()\n",
    "# pred.resize(10000,50)"
   ]
  },
  {
   "cell_type": "code",
   "execution_count": null,
   "metadata": {
    "id": "GDaboiKM58Ni"
   },
   "outputs": [],
   "source": [
    "Model = tf.keras.models.Model(input_img,encoder_out)\n",
    "alldataset_features = Model.predict(alldataset)  \n",
    "print(alldataset_features.shape)"
   ]
  },
  {
   "cell_type": "code",
   "execution_count": null,
   "metadata": {},
   "outputs": [],
   "source": [
    "def display_single_subplot(img, n_row, n_col, cell_num):\n",
    "    ax = plt.subplot(n_row, n_col, cell_num)\n",
    "    plt.imshow(img)\n",
    "    ax.get_xaxis().set_visible(False)\n",
    "    ax.get_yaxis().set_visible(False)\n",
    "\n",
    "def get_sorted_similarity_idx(autoencoder, img_to_find_idx, dataset):\n",
    "#     encoder.compile()\n",
    "#     encoder.run_eagerly = True\n",
    "    from keras.losses import binary_crossentropy\n",
    "    from tensorflow.keras.losses import cosine_similarity   \n",
    "\n",
    "    encoded_images=autoencoder.predict(alldataset)\n",
    "\n",
    "\n",
    "\n",
    "\n",
    "    \n",
    "    encoded_images = encoded_images.reshape(encoded_images.shape[0], -1)\n",
    "\n",
    "    \n",
    "    #initializing vars to pass into tensorflow\n",
    "    X_selected = [encoded_images[img_to_find_idx].tolist() for _ in range(encoded_images.shape[0])]\n",
    "    X_all = encoded_images.tolist()\n",
    "\n",
    "    X_selected_tf = tf.Variable(X_selected, tf.float32)\n",
    "    X_all_tf = tf.Variable(X_all, tf.float32)\n",
    "    loss_tf_cross = binary_crossentropy(X_selected_tf, X_all_tf)\n",
    "    loss_tf_cosine = cosine_similarity(X_selected_tf, X_all_tf)\n",
    "\n",
    "    similarity_sorted_cross = np.argsort(np.array(loss_tf_cross))[1:]\n",
    "    similarity_sorted_cosine = np.argsort(np.array(loss_tf_cosine))[1:]\n",
    "\n",
    "     #the same figure appears in X_all too, so remove it\n",
    "    return loss_tf_cross,similarity_sorted_cross,loss_tf_cosine,similarity_sorted_cosine"
   ]
  },
  {
   "cell_type": "code",
   "execution_count": null,
   "metadata": {},
   "outputs": [],
   "source": [
    "img_to_find_idx=10\n",
    "loss_tf_cross,similarity_sorted_cross,loss_tf_cosine,similarity_sorted_cosine=get_sorted_similarity_idx(autoencoder, img_to_find_idx, alldataset)\n",
    "\n",
    "\n",
    "\n",
    "print(loss_tf_cross,max(loss_tf_cross),min(loss_tf_cross))\n",
    "print(loss_tf_cosine,max(loss_tf_cosine),min(loss_tf_cosine))\n"
   ]
  },
  {
   "cell_type": "code",
   "execution_count": null,
   "metadata": {},
   "outputs": [],
   "source": [
    "n=10\n",
    "fig = plt.figure(figsize=(n*2, n/1.5))\n",
    "plt.gray()\n",
    "fig.suptitle('First row: original image. Second row: most similar images. Third row: least similar images')\n",
    "\n",
    "img_shape = (64, 64, 3)\n",
    "\n",
    "#display original\n",
    "display_single_subplot(alldataset[img_to_find_idx][0:64,0:64,:].reshape(img_shape), n_row=3, n_col=n, cell_num=1)\n",
    "#display most similar\n",
    "print('Similarity with Cross')\n",
    "for i in range(n):\n",
    "    similar_idx = similarity_sorted_cross[i]\n",
    "    display_single_subplot(alldataset[similar_idx][0:64,0:64,:].reshape(img_shape), n_row=3, n_col=n, cell_num=n+i+1)\n"
   ]
  },
  {
   "cell_type": "code",
   "execution_count": null,
   "metadata": {},
   "outputs": [],
   "source": [
    "fig = plt.figure(figsize=(n*2, n/1.5))\n",
    "plt.gray()\n",
    "print('Similarity with Cosine')\n",
    "#display original\n",
    "display_single_subplot(alldataset[img_to_find_idx][0:64,0:64,:].reshape(img_shape), n_row=3, n_col=n, cell_num=1)\n",
    "for i in range(n):\n",
    "    similar_idx = similarity_sorted_cosine[i]\n",
    "    display_single_subplot(alldataset[similar_idx][0:64,0:64,:].reshape(img_shape), n_row=3, n_col=n, cell_num=n+i+1)\n"
   ]
  },
  {
   "cell_type": "code",
   "execution_count": null,
   "metadata": {},
   "outputs": [],
   "source": [
    "pca = PCA(n_components=0.99)\n",
    "alldataset_features_afterPCA = pca.fit_transform(alldataset_features)\n",
    "print('Features before PCA',alldataset_features.shape)\n",
    "print('Features after PCA',alldataset_features_afterPCA.shape)"
   ]
  },
  {
   "cell_type": "code",
   "execution_count": null,
   "metadata": {
    "scrolled": true
   },
   "outputs": [],
   "source": [
    "from sklearn.cluster import KMeans\n",
    "from sklearn import metrics\n",
    "from scipy.spatial.distance import cdist\n",
    "import numpy as np\n",
    "import matplotlib.pyplot as plt\n",
    "distortions = []\n",
    "inertias = []\n",
    "mapping1 = {}\n",
    "mapping2 = {}\n",
    "K = range(1, 1561)\n",
    " \n",
    "for k in K:\n",
    "    print('Iteration number: ',k)\n",
    "    # Building and fitting the model\n",
    "    kmeanModel = KMeans(n_clusters=k,init='k-means++',max_iter=1000)\n",
    "    clustered_images=kmeanModel.fit(alldataset_features_afterPCA)\n",
    " \n",
    "    distortions.append(sum(np.min(cdist(alldataset_features_afterPCA, kmeanModel.cluster_centers_,\n",
    "                                        'euclidean'), axis=1)) / alldataset_features_afterPCA.shape[0])\n",
    "    inertias.append(kmeanModel.inertia_)\n",
    " \n",
    "    mapping1[k] = sum(np.min(cdist(alldataset_features_afterPCA, kmeanModel.cluster_centers_,\n",
    "                                   'euclidean'), axis=1)) / alldataset_features.shape[0]\n",
    "    mapping2[k] = kmeanModel.inertia_\n",
    "    \n",
    "\n",
    "plt.plot(K, inertias, 'bx-')\n",
    "plt.xlabel('Values of K')\n",
    "plt.ylabel('Inertias')\n",
    "plt.title('The Elbow Method using Distortion')\n",
    "plt.show()"
   ]
  },
  {
   "cell_type": "code",
   "execution_count": null,
   "metadata": {},
   "outputs": [],
   "source": [
    "plt.plot(K, distortions, 'bx-')\n",
    "plt.xlabel('Values of K')\n",
    "plt.ylabel('Distortions')\n",
    "plt.title('The Elbow Method using Distortion')\n",
    "plt.show()"
   ]
  },
  {
   "cell_type": "code",
   "execution_count": null,
   "metadata": {
    "id": "DNXC7nwzw2rf"
   },
   "outputs": [],
   "source": [
    "#K-means\n",
    "ClusterNumbers=700\n",
    "km=KMeans(n_clusters=ClusterNumbers,init='k-means++',max_iter=10000)\n",
    "clustered_images = km.fit_predict(alldataset_features_afterPCA)"
   ]
  },
  {
   "cell_type": "code",
   "execution_count": null,
   "metadata": {},
   "outputs": [],
   "source": [
    "Y_test=Y_test.astype(int)\n",
    "\n",
    "for cluster in range(8):\n",
    "    print('cluster: ', cluster)\n",
    "    a = np.array(Y_test[np.where(clustered_images == cluster)])\n",
    "    print(np.bincount(a[:,0]))\n",
    "    print(\"Probable cluster label : \",np.argmax(np.bincount(a[:,0])))\n"
   ]
  },
  {
   "cell_type": "code",
   "execution_count": null,
   "metadata": {},
   "outputs": [],
   "source": [
    "def get_sorted_similarity_idx(encoder, img_to_find_idx, dataset, loss='binary_crossentropy'):\n",
    "    import matplotlib.pyplot as plt\n",
    "    from keras.losses import binary_crossentropy\n",
    "    from tensorflow.keras.losses import cosine_similarity \n",
    "    \n",
    "\n",
    "#     encoder.compile()\n",
    "#     encoder.run_eagerly = True\n",
    "    encoded_images = encoder.predict(dataset)\n",
    "\n",
    "\n",
    "\n",
    "\n",
    "    \n",
    "    encoded_images = encoded_images.reshape(encoded_images.shape[0], -1)\n",
    "\n",
    "    \n",
    "    #initializing vars to pass into tensorflow\n",
    "    X_selected = [encoded_images[img_to_find_idx].tolist() for _ in range(encoded_images.shape[0])]\n",
    "    X_all = encoded_images.tolist()\n",
    "\n",
    "    X_selected_tf = tf.Variable(X_selected, tf.float32)\n",
    "    X_all_tf = tf.Variable(X_all, tf.float32)\n",
    "    if loss=='binary_crossentropy':\n",
    "        loss_tf = binary_crossentropy(X_selected_tf, X_all_tf)\n",
    "    elif loss=='cosine_proximity':\n",
    "        loss_tf = cosine_similarity(X_selected_tf, X_all_tf)\n",
    "    else:\n",
    "        print('Unknown loss, using binary_crossentropy.')\n",
    "        loss_tf = binary_crossentropy(X_selected_tf, X_all_tf)\n",
    "    init_op = tf.global_variables_initializer()\n",
    "\n",
    "    similarity = []\n",
    "    with tf.Session() as sess:\n",
    "        sess.run(init_op)\n",
    "        similarity = sess.run(loss_tf)\n",
    "    similarity_sorted = np.argsort(np.array(similarity))[1:] #the same figure appears in X_all too, so remove it\n",
    "    return similarity_sorted"
   ]
  },
  {
   "cell_type": "code",
   "execution_count": null,
   "metadata": {
    "colab": {
     "base_uri": "https://localhost:8080/",
     "height": 521
    },
    "id": "xOVY3Ip_ooWv",
    "outputId": "8e8ce5a0-792b-4448-8596-9a14016a2285"
   },
   "outputs": [],
   "source": [
    "\n",
    "img_to_find_idx=10\n",
    "get_sorted_similarity_idx(autoencoder, img_to_find_idx, alldataset, loss='binary_crossentropy')"
   ]
  },
  {
   "cell_type": "code",
   "execution_count": null,
   "metadata": {
    "id": "w650S9Mh8uPg"
   },
   "outputs": [],
   "source": [
    "copy=clustered_images\n",
    "decoded_imgs.shape\n",
    "print(copy.shape)\n",
    "print(X_test.shape)"
   ]
  },
  {
   "cell_type": "code",
   "execution_count": null,
   "metadata": {
    "colab": {
     "base_uri": "https://localhost:8080/",
     "height": 1000
    },
    "id": "mG5Fmeg0Ngya",
    "outputId": "29f3e872-4db2-4282-d408-9eaa44c7d47d",
    "scrolled": true
   },
   "outputs": [],
   "source": [
    "for i in range(ClusterNumbers):\n",
    "    count = 0 \n",
    "    print(\"Class \",i)\n",
    "    indices = np.array(np.where(copy==i))\n",
    "    print(len(indices[0]))\n",
    "    n=len(indices[0])\n",
    "    plt.figure(figsize=(20, 4))\n",
    "    if not os.path.exists(path+'clusters\\\\'+str(i)):\n",
    "        os.makedirs(path+'clusters\\\\'+str(i))\n",
    "    for j in range(n):\n",
    "        # display original\n",
    "        pos = random.randint(0,np.size(indices))\n",
    "        ax = plt.subplot(2, n,j + 1)\n",
    "        plt.imshow(X_test[pos][0:64,0:64,:].reshape(64,64,3))\n",
    "        cv2.imwrite(path+'clusters\\\\'+str(i)+'\\image'+str(j)+'.jpg', np.array(X_test[pos][0:64,0:64,:]*[255]).reshape(64,64,3))\n",
    "        plt.gray()\n",
    "        ax.get_xaxis().set_visible(False)\n",
    "        ax.get_yaxis().set_visible(False)\n",
    "\n",
    "        # display reconstruction\n",
    "        ax = plt.subplot(2, n, j + 1 + n)\n",
    "        plt.imshow(decoded_imgs[pos][0:64,0:64,:].reshape(64,64,3))\n",
    "        plt.gray()\n",
    "        ax.get_xaxis().set_visible(False)\n",
    "        ax.get_yaxis().set_visible(False)\n",
    "        count+=1\n",
    "    plt.show()"
   ]
  },
  {
   "cell_type": "markdown",
   "metadata": {},
   "source": [
    "The results of K-means is not really satisfactory. The images are more or less evenly distributed with no real majority in the cluster(>50% of the cluster size).There are a few classes that have not been represented.Perhaps using a more robust clustering algorithm for images might be needed.There is a major scope for improvement."
   ]
  },
  {
   "cell_type": "code",
   "execution_count": null,
   "metadata": {
    "id": "GKrAbxPpOfi6"
   },
   "outputs": [],
   "source": [
    "# Plot the clusters\n",
    "\n",
    "import matplotlib.pyplot as plt\n",
    "\n",
    "#filter rows of original data\n",
    "filtered_label0 = principalComponents[clustered_images == 0]\n",
    "filtered_label1 = principalComponents[clustered_images == 1]\n",
    "filtered_label2 = principalComponents[clustered_images == 2]\n",
    "filtered_label3 = principalComponents[clustered_images == 3]\n",
    "filtered_label4 = principalComponents[clustered_images == 4]\n",
    "filtered_label5 = principalComponents[clustered_images == 5]\n",
    "filtered_label6 = principalComponents[clustered_images == 6]\n",
    "\n",
    "\n",
    "#plotting the results\n",
    "\n",
    "plt.scatter(km.cluster_centers_[:, 0], \n",
    "            km.cluster_centers_[:, 1], \n",
    "            s=100,                             # Set centroid size\n",
    "            c='red')                           # Set centroid color\n",
    "\n",
    "\n",
    "#Plotting the results\n",
    "plt.scatter(filtered_label0[:,0] , filtered_label0[:,1] , color = 'blue')\n",
    "plt.scatter(filtered_label1[:,0] , filtered_label1[:,1] , color = 'black')\n",
    "plt.scatter(filtered_label2[:,0] , filtered_label2[:,1] , color = 'yellow')\n",
    "plt.scatter(filtered_label3[:,0] , filtered_label3[:,1] , color = 'orange')\n",
    "plt.scatter(filtered_label4[:,0] , filtered_label4[:,1] , color = 'cyan')\n",
    "plt.scatter(filtered_label5[:,0] , filtered_label5[:,1] , color = 'green')\n",
    "plt.scatter(filtered_label6[:,0] , filtered_label6[:,1] , color = 'pink')\n",
    "\n",
    "\n",
    "plt.show()"
   ]
  },
  {
   "cell_type": "code",
   "execution_count": null,
   "metadata": {},
   "outputs": [],
   "source": []
  }
 ],
 "metadata": {
  "accelerator": "GPU",
  "colab": {
   "collapsed_sections": [],
   "name": "Auto_encoder_Deep.ipynb",
   "provenance": []
  },
  "kernelspec": {
   "display_name": "Python 3 (ipykernel)",
   "language": "python",
   "name": "python3"
  },
  "language_info": {
   "codemirror_mode": {
    "name": "ipython",
    "version": 3
   },
   "file_extension": ".py",
   "mimetype": "text/x-python",
   "name": "python",
   "nbconvert_exporter": "python",
   "pygments_lexer": "ipython3",
   "version": "3.7.11"
  }
 },
 "nbformat": 4,
 "nbformat_minor": 1
}
